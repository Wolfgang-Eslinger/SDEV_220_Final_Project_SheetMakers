{
 "cells": [
  {
   "cell_type": "code",
   "execution_count": null,
   "id": "4b2e24c2",
   "metadata": {},
   "outputs": [],
   "source": [
    "#Creating pdf export system.\n",
    "\n",
    "from PyPDF2 import PdfFileReader\n",
    "\n",
    "def extract_information(pdf_path):\n",
    "    with open(pdf_path, 'rb') as f:\n",
    "        pdf = PdfFileReader(f)\n",
    "        information = pdf.getDocumentInfo()\n",
    "        number_of_pages = pdf.getNumPages()\n",
    "\n",
    "    txt = f\"\"\"\n",
    "    Information about {pdf_path}: \n",
    "\n",
    "    Character Name: {information.character_name}\n",
    "    Class & Level: {information.class_&_level}\n",
    "    Background: {information.background}\n",
    "    Player Name: {information.player_name}\n",
    "    Race: {information.race}\n",
    "    Alignment: {information.alignment}\n",
    "    Experience Points: {information.experience_points}\n",
    "    Strength: {information.strength}\n",
    "    Wisdom: {information.wisdom}\n",
    "    Charisma: {information.charisma}\n",
    "    Inspiration: {information.inspiration}\n",
    "    Proficiency Bonus: {information.proficiency_bonus}\n",
    "    Armor Class: {information.armor_class}\n",
    "    Initiative: {information.initiative}\n",
    "    Speed: {information.speed}\n",
    "    Saving Throws: {information.saving_throws}\n",
    "    Skills: {information.skills}\n",
    "    Current Hit Points: {information.current_hit_points}\n",
    "    Temporary Hit Points: {information.temporary_hit_points}\n",
    "    Hit Dice: {information.hit_dice}\n",
    "    Death Saves: {information.death_saves}\n",
    "    Attacks & Spellcasting: {information.attacks_&_spellcasting}\n",
    "    Passive Wisdom (perception): {information.passive_wisdom_(perception)}\n",
    "    Other Proficiencies & Languages: {information.other_proficiencies_&_languages}\n",
    "    Equipment: {information.equipment}\n",
    "    Personality Traits: {information.personality_traits}\n",
    "    Ideals: {information.ideals}\n",
    "    Bonds: {information.bonds}\n",
    "    Flaws: {information.flaws}\n",
    "    Features & Traits: {information.features_&_traits}\n",
    "    Character Name: {information.character_name}\n",
    "    Age: {information.Age}\n",
    "    Height: {information.height}\n",
    "    Weight: {information.weight}\n",
    "    Eyes: {information.eyes}\n",
    "    Skin: {information.skin}\n",
    "    Hair: {information.hair}\n",
    "    Character Appearance: {information.character_appearance}\n",
    "    Allies & Organizations: {information.allies_&_organizations}\n",
    "    Additional Features & Traits: {information.additional_features_&_traits}\n",
    "    Character Backstory: {information.character_backstory}\n",
    "    Treasure: {information.treasure}\n",
    "    Spellcasting Class: {information.spellcating_class}\n",
    "    Spellcasting Ability: {information.spellcasting_ability}\n",
    "    Spell Save DC: {information.spell_save_dc}\n",
    "    Spell Attack Bonus: {information.spell_attacks_bonus}\n",
    "    Cantrips: {information.cantrips}\n",
    "    Number of pages: {number_of_pages}\n",
    "    \"\"\"\n",
    "\n",
    "    print(txt)\n",
    "    return information\n",
    "\n",
    "if __name__ == '__main__':\n",
    "    path = 'reportlab-sample.pdf'\n",
    "    extract_information(path)q"
   ]
  },
  {
   "cell_type": "code",
   "execution_count": 3,
   "id": "bb135a7b",
   "metadata": {},
   "outputs": [
    {
     "ename": "SyntaxError",
     "evalue": "invalid syntax (3383490984.py, line 6)",
     "output_type": "error",
     "traceback": [
      "\u001b[1;36m  Cell \u001b[1;32mIn[3], line 6\u001b[1;36m\u001b[0m\n\u001b[1;33m    def Index\u001b[0m\n\u001b[1;37m             ^\u001b[0m\n\u001b[1;31mSyntaxError\u001b[0m\u001b[1;31m:\u001b[0m invalid syntax\n"
     ]
    }
   ],
   "source": [
    "from flask import Flask\n",
    "\n",
    "app = Flask (__name__)\n",
    "\n",
    "@app.route ('/Dungeons/&/Dragons')\n",
    "def index\n",
    "    return 'Welcome one and all, to Dungeons & Dragons!!!'\n",
    "\n",
    "if __name__ = '__main__'\n",
    "    app.run(debug = True)"
   ]
  },
  {
   "cell_type": "code",
   "execution_count": 27,
   "id": "ae773b03",
   "metadata": {},
   "outputs": [
    {
     "name": "stdout",
     "output_type": "stream",
     "text": [
      "Choose your race. What would it be... Please use capital letters for the beginning of the words? Elf\n",
      "Good Choice.\n",
      "Choose your class. What would it be... Please use capital letters for the beginning of the words? Fighter\n",
      "Good Choice.\n",
      "What is your character name? Jack\n",
      "Good choice.\n",
      "Choose your background. What would it be... Please use capital letters for the beginning of the words? Folk Hero\n",
      "Good Choice.\n",
      "Do you want to choose your character personality trait, ideal, bond, and flaw, Yes or No? No\n",
      "You have chosen not to give your character a personality trait, ideal, bond, and flaw.\n",
      "Choose your armor: Light \n",
      "Armor unknown, please choose between Light Armor, Medium Armor, Heavy Armor, or Shield.\n",
      "Choose your armor: Light Armor\n",
      "Good Choice.\n",
      "Choose your spell, Cleric or Wizard? Wizard\n",
      "Good Choice.\n"
     ]
    }
   ],
   "source": [
    "#rule validation system.\n",
    "\n",
    "#race rule\n",
    "\n",
    "#Rule chapter 2: Race.\n",
    "while True:\n",
    "    user = input ('Choose your race. What would it be... Please use capital letters for the beginning of the words? ')\n",
    "    if user == 'Dwarf' or user == 'Elf' or user == 'Halfling' or user == 'Human':\n",
    "        print('Good Choice.')\n",
    "        break\n",
    "    else:\n",
    "        print('Race unknown, please choose between Dwarf, Elf, Halfing, or Human.')\n",
    "    \n",
    "#Rule chapter 3: Classes.\n",
    "while True:    \n",
    "    user = input('Choose your class. What would it be... Please use capital letters for the beginning of the words? ')\n",
    "    if user == 'Cleric' or user == 'Fighter' or user == 'Rogue' or user == 'Wizard':\n",
    "        print('Good Choice.')\n",
    "        break\n",
    "    else:\n",
    "        print('Class unknown, please choose between Cleric, Fighter, Rogue, or Wizard.')\n",
    "\n",
    "#Rule Chapter 4: Character detail.\n",
    "\n",
    "user = input('What is your character name? ')\n",
    "print('Good choice.')\n",
    "    \n",
    "while True:\n",
    "    user = input ('Choose your background. What would it be... Please use capital letters for the beginning of the words? ')\n",
    "    if user == 'Acolyte' or user == 'Criminal' or user == 'Folk Hero' or user == 'Noble' or user == 'Sage' or user == 'Soldier':\n",
    "        print('Good Choice.')\n",
    "        break\n",
    "    else:\n",
    "        print('Background unknown, please choose between Acolyte, Criminal, Folk Hero, Noble, Sage, or Soldier.')\n",
    "        \n",
    "while True:\n",
    "    user = input('Do you want to choose your character personality trait, ideal, bond, and flaw, Yes or No? ')\n",
    "    if user == 'Yes':\n",
    "        user = input('What is character personality trait? ')\n",
    "        print('Good')\n",
    "        user = input('What is your character ideal? ')\n",
    "        print('Good')\n",
    "        user = input('What is your character bond? ')\n",
    "        print('Good')\n",
    "        user = input('What is your character flaw? ')\n",
    "        print('Good')\n",
    "            \n",
    "    if user == 'No':\n",
    "        print('You have chosen not to give your character a personality trait, ideal, bond, and flaw.')\n",
    "        break\n",
    "        \n",
    "\n",
    "#Rule chapter 5: Armors.\n",
    "while True:\n",
    "    user = input ('Choose your armor: ')\n",
    "    if user == 'Light Armor' or user == 'Medium Armor' or user == 'Heavy Armor' or user == 'Shield':\n",
    "        print('Good Choice.') #idea: stats should probably display after user picks what they want?\n",
    "        break\n",
    "    else:\n",
    "        print('Armor unknown, please choose between Light Armor, Medium Armor, Heavy Armor, or Shield.')\n",
    "        \n",
    "    \n",
    "#Rule Chapter 11: Spells.\n",
    "\n",
    "#Cleric or Wizard Spells, lvl 1 only:\n",
    "while True:\n",
    "    user = input ('Choose your spell, Cleric or Wizard? ')\n",
    "    if user == 'Cleric' or user == 'Wizard': #No need to add the spells that fall under their respective category, since team leader is doing the stats and the stats should come after the spell name.\n",
    "        print('Good Choice.')\n",
    "        break\n",
    "    else:\n",
    "        print('Spell category unknown, please choose between Cleric, or Wizard.')"
   ]
  },
  {
   "cell_type": "code",
   "execution_count": 26,
   "id": "732f1ad0",
   "metadata": {},
   "outputs": [
    {
     "name": "stdout",
     "output_type": "stream",
     "text": [
      "['Bless', 'Command', 'Cure Wounds', 'Detect Magic', 'Guiding Bolt', 'Healing Word', 'Inflict Wounds', 'Sanctuary', 'Shield of Faith']\n"
     ]
    }
   ],
   "source": [
    "cleric_list = ['Bless', 'Command', 'Cure Wounds']\n",
    "\n",
    "cleric_list_2 = ['Detect Magic', 'Guiding Bolt', 'Healing Word']\n",
    "\n",
    "cleric_list_3 = ['Inflict Wounds', 'Sanctuary', 'Shield of Faith']\n",
    "\n",
    "cleric_list.extend(cleric_list_2)\n",
    "\n",
    "cleric_list.extend(cleric_list_3)\n",
    "\n",
    "cleric_list\n",
    "\n",
    "print(cleric_list)"
   ]
  },
  {
   "cell_type": "code",
   "execution_count": 16,
   "id": "e566bc96",
   "metadata": {},
   "outputs": [
    {
     "name": "stdout",
     "output_type": "stream",
     "text": [
      "('Bless', 'Command', 'Cure Wounds')\n"
     ]
    }
   ],
   "source": [
    "\n",
    "Cleric_tuple = ('Bless', 'Command', 'Cure Wounds')\n",
    "\n",
    "list(Cleric_tuple)\n",
    "print(Cleric_tuple)"
   ]
  },
  {
   "cell_type": "code",
   "execution_count": 19,
   "id": "140961fc",
   "metadata": {
    "collapsed": true
   },
   "outputs": [
    {
     "ename": "SyntaxError",
     "evalue": "invalid syntax (1602864964.py, line 1)",
     "output_type": "error",
     "traceback": [
      "\u001b[1;36m  Cell \u001b[1;32mIn[19], line 1\u001b[1;36m\u001b[0m\n\u001b[1;33m    or user != 'Elf' or user != Halfling or user != Human\u001b[0m\n\u001b[1;37m    ^\u001b[0m\n\u001b[1;31mSyntaxError\u001b[0m\u001b[1;31m:\u001b[0m invalid syntax\n"
     ]
    }
   ],
   "source": [
    "#VS Code: pdf user input export system\n",
    "from reportlab.pdfgen import canvas\n",
    "\n",
    "fileName = 'D & D.pdf'\n",
    "documentTitle = 'D & D'\n",
    "title = 'Dungeons & Dragons'\n",
    "subTitle = 'Welcome to Character Creation Who would you like to be?'\n",
    "\n",
    "\n",
    "pdf = canvas.Canvas(fileName)\n",
    "pdf.setTitle(documentTitle)\n",
    "pdf.setFont(\"Times-Roman\", 50)\n",
    "pdf.drawCentredString(300, 770, title)\n",
    "pdf.showPage()\n",
    "\n",
    "\n",
    "\n",
    "\n",
    "\n",
    "\n",
    "\n",
    "pdf.save()"
   ]
  }
 ],
 "metadata": {
  "kernelspec": {
   "display_name": "Python 3 (ipykernel)",
   "language": "python",
   "name": "python3"
  },
  "language_info": {
   "codemirror_mode": {
    "name": "ipython",
    "version": 3
   },
   "file_extension": ".py",
   "mimetype": "text/x-python",
   "name": "python",
   "nbconvert_exporter": "python",
   "pygments_lexer": "ipython3",
   "version": "3.10.9"
  }
 },
 "nbformat": 4,
 "nbformat_minor": 5
}
